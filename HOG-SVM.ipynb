{
  "nbformat": 4,
  "nbformat_minor": 0,
  "metadata": {
    "colab": {
      "name": "Untitled3.ipynb",
      "provenance": [],
      "collapsed_sections": []
    },
    "kernelspec": {
      "name": "python3",
      "display_name": "Python 3"
    },
    "accelerator": "GPU"
  },
  "cells": [
    {
      "cell_type": "code",
      "metadata": {
        "id": "epb9KI9bO_wQ"
      },
      "source": [
        "import numpy as np # linear algebra\r\n",
        "import pandas as pd\r\n",
        "import json\r\n",
        "from matplotlib import pyplot as plt\r\n",
        "from skimage import color\r\n",
        "from skimage.feature import hog\r\n",
        "from sklearn import svm\r\n",
        "from sklearn.metrics import classification_report,accuracy_score\r\n",
        "import tensorflow as tf\r\n"
      ],
      "execution_count": 6,
      "outputs": []
    },
    {
      "cell_type": "code",
      "metadata": {
        "id": "oF-ITMc3PAhV"
      },
      "source": [
        "####start#####\r\n",
        "emotion_data = pd.read_csv('/content/drive/MyDrive/fer2013.csv')\r\n",
        "X = []\r\n",
        "y = []\r\n",
        "#the column has values as training publictest and privtest\r\n",
        "for index, row in emotion_data.iterrows():\r\n",
        "        pixels = row['pixels'].split(\" \")\r\n",
        "        X.append(np.array(pixels))\r\n",
        "        y.append(row['emotion'])"
      ],
      "execution_count": 7,
      "outputs": []
    },
    {
      "cell_type": "code",
      "metadata": {
        "id": "r3cB6SivRitu"
      },
      "source": [
        "#convert to floats\r\n",
        "X = np.array(X).astype(np.float)\r\n",
        "y = np.array(y).astype(np.float)\r\n",
        "\r\n",
        "\r\n",
        "#normalizing data between 0 and 1 so that each pixel value has a value between 0 and 1. (0-254->0-1)\r\n",
        "X -= np.mean(X, axis=0)  \r\n",
        "X /= np.std(X, axis=0)  \r\n",
        "\r\n",
        "\r\n",
        "#reshaping inputs\r\n",
        "X = X.reshape(X.shape[0], 48, 48, 1)\r\n",
        "# #reshaping Y\r\n",
        "# y_train= tf.keras.utils.to_categorical(y_train, num_classes=num_emotions)\r\n",
        "# y_test = tf.keras.utils.to_categorical(y_test, num_classes=num_emotions)"
      ],
      "execution_count": 8,
      "outputs": []
    },
    {
      "cell_type": "code",
      "metadata": {
        "id": "BV5C5Wb3PeI1"
      },
      "source": [
        "ppc = 16\r\n",
        "hog_images = []\r\n",
        "hog_features = []\r\n",
        "for image in X:\r\n",
        "    fd, hog_image = hog(image, orientations=9, pixels_per_cell=(8, 8),cells_per_block=(2, 2), visualize=True, multichannel=True)\r\n",
        "    hog_images.append(hog_image)\r\n",
        "    hog_features.append(fd)"
      ],
      "execution_count": 9,
      "outputs": []
    },
    {
      "cell_type": "code",
      "metadata": {
        "colab": {
          "base_uri": "https://localhost:8080/",
          "height": 285
        },
        "id": "R4ScTbTfWocA",
        "outputId": "bca6aa58-8db6-40d4-b1a7-276fa6de4230"
      },
      "source": [
        "plt.imshow(hog_images[13])\r\n"
      ],
      "execution_count": 12,
      "outputs": [
        {
          "output_type": "execute_result",
          "data": {
            "text/plain": [
              "<matplotlib.image.AxesImage at 0x7f9145efe278>"
            ]
          },
          "metadata": {
            "tags": []
          },
          "execution_count": 12
        },
        {
          "output_type": "display_data",
          "data": {
            "image/png": "[encoded data removed]",
            "text/plain": [
              "<Figure size 432x288 with 1 Axes>"
            ]
          },
          "metadata": {
            "tags": [],
            "needs_background": "light"
          }
        }
      ]
    },
    {
      "cell_type": "code",
      "metadata": {
        "id": "at-QKpxsR-Ef"
      },
      "source": [
        "# ppc = 16\r\n",
        "# hog_images_test = []\r\n",
        "# hog_features_test = []\r\n",
        "# for image in X_test:\r\n",
        "#     fd, hog_image = hog(image, orientations=9, pixels_per_cell=(8, 8),cells_per_block=(2, 2), visualize=True, multichannel=True)\r\n",
        "#     hog_images_test.append(hog_image)\r\n",
        "#     hog_features_test.append(fd)"
      ],
      "execution_count": null,
      "outputs": []
    },
    {
      "cell_type": "code",
      "metadata": {
        "id": "7yqh4tdCXC-6"
      },
      "source": [
        "y =  y.reshape(len(y),1)\r\n"
      ],
      "execution_count": 13,
      "outputs": []
    },
    {
      "cell_type": "code",
      "metadata": {
        "id": "d1L57tZHXC2h"
      },
      "source": [
        "clf = svm.SVC()\r\n",
        "hog_features = np.array(hog_features)\r\n",
        "data_frame = np.hstack((hog_features,y))\r\n",
        "np.random.shuffle(data_frame)"
      ],
      "execution_count": 14,
      "outputs": []
    },
    {
      "cell_type": "code",
      "metadata": {
        "id": "z06gLq4ATrLJ"
      },
      "source": [
        "#What percentage of data you want to keep for training\r\n",
        "percentage = 85 #close to actual split in the dataset which is 88.8\r\n",
        "partition = int(len(hog_features)*percentage/100)"
      ],
      "execution_count": 15,
      "outputs": []
    },
    {
      "cell_type": "code",
      "metadata": {
        "id": "8chjRxvOT-pp"
      },
      "source": [
        "x_train, x_test = data_frame[:partition,:-1],  data_frame[partition:,:-1]\r\n",
        "y_train, y_test = data_frame[:partition,-1:].ravel() , data_frame[partition:,-1:].ravel()\r\n"
      ],
      "execution_count": 16,
      "outputs": []
    },
    {
      "cell_type": "code",
      "metadata": {
        "colab": {
          "base_uri": "https://localhost:8080/"
        },
        "id": "25Z-cACVUKRN",
        "outputId": "ab35f4de-d771-45ac-87dd-9b35fcc5921f"
      },
      "source": [
        "clf.fit(x_train,y_train)\r\n"
      ],
      "execution_count": 17,
      "outputs": [
        {
          "output_type": "execute_result",
          "data": {
            "text/plain": [
              "SVC(C=1.0, break_ties=False, cache_size=200, class_weight=None, coef0=0.0,\n",
              "    decision_function_shape='ovr', degree=3, gamma='scale', kernel='rbf',\n",
              "    max_iter=-1, probability=False, random_state=None, shrinking=True,\n",
              "    tol=0.001, verbose=False)"
            ]
          },
          "metadata": {
            "tags": []
          },
          "execution_count": 17
        }
      ]
    },
    {
      "cell_type": "code",
      "metadata": {
        "colab": {
          "base_uri": "https://localhost:8080/"
        },
        "id": "hLVRAv8KYutG",
        "outputId": "f64527df-5f1b-4a2c-a936-d6e3b9622bc1"
      },
      "source": [
        "y_pred = clf.predict(x_test)\r\n",
        "print(\"Accuracy: \"+str(accuracy_score(y_test, y_pred)))\r\n"
      ],
      "execution_count": 18,
      "outputs": [
        {
          "output_type": "stream",
          "text": [
            "Accuracy: 0.5295319465081724\n"
          ],
          "name": "stdout"
        }
      ]
    },
    {
      "cell_type": "code",
      "metadata": {
        "id": "QAzesLiDYxj2"
      },
      "source": [
        ""
      ],
      "execution_count": null,
      "outputs": []
    }
  ]
}