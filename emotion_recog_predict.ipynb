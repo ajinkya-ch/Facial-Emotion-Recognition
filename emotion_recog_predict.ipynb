{
  "nbformat": 4,
  "nbformat_minor": 0,
  "metadata": {
    "colab": {
      "name": "emotion_recog_predict",
      "provenance": []
    },
    "kernelspec": {
      "name": "python3",
      "display_name": "Python 3"
    }
  },
  "cells": [
    {
      "cell_type": "code",
      "metadata": {
        "id": "N4_IHm4h3R_y"
      },
      "source": [
        "from tensorflow.keras.preprocessing.image import load_img\r\n",
        "from tensorflow.keras.preprocessing.image import img_to_array\r\n",
        "from tensorflow.image import rgb_to_grayscale\r\n",
        "from tensorflow.keras.models import load_model\r\n",
        "import numpy as np"
      ],
      "execution_count": 12,
      "outputs": []
    },
    {
      "cell_type": "code",
      "metadata": {
        "id": "dv1ClWUp3f_M"
      },
      "source": [
        "model= load_model(\"mainmodel.h5\")"
      ],
      "execution_count": 13,
      "outputs": []
    },
    {
      "cell_type": "code",
      "metadata": {
        "id": "5qWoVxdS6rrB"
      },
      "source": [
        "labels_ref = ['Anger', 'Disgust', 'Fear', 'Happy', 'Sad', 'Surprise', 'Neutral']"
      ],
      "execution_count": 14,
      "outputs": []
    },
    {
      "cell_type": "code",
      "metadata": {
        "colab": {
          "base_uri": "https://localhost:8080/"
        },
        "id": "cdrzUGYH4pQd",
        "outputId": "0148f355-5f80-4555-834a-2c40b972f8f5"
      },
      "source": [
        "# load an sad image from file\r\n",
        "image = load_img('neut.jpg', target_size=(48, 48))\r\n",
        "# convert the image pixels to a numpy array\r\n",
        "image = img_to_array(image)\r\n",
        "image = image/255.0\r\n",
        "# reshape data for the model\r\n",
        "image = image.reshape((1, image.shape[0], image.shape[1], image.shape[2]))\r\n",
        "image = rgb_to_grayscale(image)\r\n",
        "prediction_probs = model.predict(image)\r\n",
        "max_prob_index = np.argmax(prediction_probs)\r\n",
        "emotion_label = labels_ref[max_prob_index]\r\n",
        "print(emotion_label)"
      ],
      "execution_count": 19,
      "outputs": [
        {
          "output_type": "stream",
          "text": [
            "Anger\n"
          ],
          "name": "stdout"
        }
      ]
    },
    {
      "cell_type": "code",
      "metadata": {
        "colab": {
          "base_uri": "https://localhost:8080/"
        },
        "id": "0jm-Y2UZ6MAU",
        "outputId": "948a9cf7-3501-486e-ba02-4c4acfd57d5c"
      },
      "source": [
        "# load an sad image from file\r\n",
        "image = load_img('sad.png', target_size=(48, 48))\r\n",
        "# convert the image pixels to a numpy array\r\n",
        "image = img_to_array(image)\r\n",
        "image = image/255.0\r\n",
        "# reshape data for the model\r\n",
        "image = image.reshape((1, image.shape[0], image.shape[1], image.shape[2]))\r\n",
        "image = rgb_to_grayscale(image)\r\n",
        "prediction_probs = model.predict(image)\r\n",
        "max_prob_index = np.argmax(prediction_probs)\r\n",
        "emotion_label = labels_ref[max_prob_index]\r\n",
        "print(emotion_label)"
      ],
      "execution_count": 21,
      "outputs": [
        {
          "output_type": "stream",
          "text": [
            "Sad\n"
          ],
          "name": "stdout"
        }
      ]
    },
    {
      "cell_type": "code",
      "metadata": {
        "colab": {
          "base_uri": "https://localhost:8080/"
        },
        "id": "DACSjz7m6wUU",
        "outputId": "671a9200-035f-4bd4-df69-55431cf4d180"
      },
      "source": [
        "# load an sad image from file\r\n",
        "image = load_img('hap.jpg', target_size=(48, 48))\r\n",
        "# convert the image pixels to a numpy array\r\n",
        "image = img_to_array(image)\r\n",
        "image = image/255.0\r\n",
        "# reshape data for the model\r\n",
        "image = image.reshape((1, image.shape[0], image.shape[1], image.shape[2]))\r\n",
        "image = rgb_to_grayscale(image)\r\n",
        "prediction_probs = model.predict(image)\r\n",
        "max_prob_index = np.argmax(prediction_probs)\r\n",
        "emotion_label = labels_ref[max_prob_index]\r\n",
        "print(emotion_label)"
      ],
      "execution_count": 22,
      "outputs": [
        {
          "output_type": "stream",
          "text": [
            "Happy\n"
          ],
          "name": "stdout"
        }
      ]
    },
    {
      "cell_type": "code",
      "metadata": {
        "id": "a50xCZpz62tY"
      },
      "source": [
        ""
      ],
      "execution_count": null,
      "outputs": []
    }
  ]
}